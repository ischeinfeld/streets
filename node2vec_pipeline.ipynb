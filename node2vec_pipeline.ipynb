{
 "cells": [
  {
   "cell_type": "code",
   "execution_count": 1,
   "metadata": {},
   "outputs": [],
   "source": [
    "import networkx as nx\n",
    "import itertools\n",
    "import osmnx as ox\n",
    "import glob\n",
    "import itertools\n",
    "from matplotlib import cm\n",
    "import folium\n",
    "import matplotlib.pyplot as plt\n",
    "import time\n",
    "import numpy as np\n",
    "import pandas as pd\n",
    "from matplotlib.collections import LineCollection\n",
    "from osmnx.save_load import graph_to_gdfs\n",
    "import pickle\n",
    "import os\n",
    "import subprocess"
   ]
  },
  {
   "cell_type": "code",
   "execution_count": 17,
   "metadata": {},
   "outputs": [],
   "source": [
    "run_label = \"new_york\"\n",
    "dim = 48"
   ]
  },
  {
   "cell_type": "code",
   "execution_count": 18,
   "metadata": {},
   "outputs": [],
   "source": [
    "pickle_in = open('./experiments/line_graphs/' + run_label +  \".pkl\", \"rb\")\n",
    "LG = pickle.load(pickle_in)\n",
    "\n",
    "edgelist_path =  'experiments/node2vec/edgelists/'+ run_label +'.edgelist'\n",
    "nx.readwrite.edgelist.write_edgelist(LG, edgelist_path, data=False)"
   ]
  },
  {
   "cell_type": "code",
   "execution_count": 19,
   "metadata": {},
   "outputs": [
    {
     "data": {
      "text/plain": [
       "1"
      ]
     },
     "execution_count": 19,
     "metadata": {},
     "output_type": "execute_result"
    }
   ],
   "source": [
    "nx.number_weakly_connected_components(LG)"
   ]
  },
  {
   "cell_type": "code",
   "execution_count": 20,
   "metadata": {},
   "outputs": [
    {
     "data": {
      "text/plain": [
       "0"
      ]
     },
     "execution_count": 20,
     "metadata": {},
     "output_type": "execute_result"
    }
   ],
   "source": [
    "\"\"\"\n",
    "./snap/examples/node2vec/node2vec\n",
    "\n",
    "An algorithmic framework for representational learning on graphs. [Dec  9 2019]\n",
    "================================================================================\n",
    "usage: node2vec\n",
    "   -i:Input graph path (default:'graph/karate.edgelist')\n",
    "   -o:Output graph path (default:'emb/karate.emb')\n",
    "   -d:Number of dimensions. Default is 128 (default:128)\n",
    "   -l:Length of walk per source. Default is 80 (default:80)\n",
    "   -r:Number of walks per source. Default is 10 (default:10)\n",
    "   -k:Context size for optimization. Default is 10 (default:10)\n",
    "   -e:Number of epochs in SGD. Default is 1 (default:1)\n",
    "   -p:Return hyperparameter. Default is 1 (default:1)\n",
    "   -q:Inout hyperparameter. Default is 1 (default:1)\n",
    "   -v Verbose output.\n",
    "   -dr Graph is directed.\n",
    "   -w Graph is weighted.\n",
    "   -ow Output random walks instead of embeddings.\n",
    "\"\"\"\n",
    "node2vec_out = \"experiments/embeddings/node2vec/\" + run_label + \".emb\" + str(dim)\n",
    "\n",
    "subprocess.call([\"./snap/examples/node2vec/node2vec\",\n",
    "                 \"-i:\" + edgelist_path,\n",
    "                 \"-o:\" + node2vec_out,\n",
    "                 \"-dr\",\n",
    "                 \"-d:\" + str(dim)])"
   ]
  },
  {
   "cell_type": "code",
   "execution_count": 21,
   "metadata": {},
   "outputs": [
    {
     "data": {
      "text/plain": [
       "'new_york'"
      ]
     },
     "execution_count": 21,
     "metadata": {},
     "output_type": "execute_result"
    }
   ],
   "source": [
    "run_label"
   ]
  },
  {
   "cell_type": "code",
   "execution_count": null,
   "metadata": {},
   "outputs": [],
   "source": []
  }
 ],
 "metadata": {
  "kernelspec": {
   "display_name": "Python 3",
   "language": "python",
   "name": "python3"
  },
  "language_info": {
   "codemirror_mode": {
    "name": "ipython",
    "version": 3
   },
   "file_extension": ".py",
   "mimetype": "text/x-python",
   "name": "python",
   "nbconvert_exporter": "python",
   "pygments_lexer": "ipython3",
   "version": "3.6.9"
  }
 },
 "nbformat": 4,
 "nbformat_minor": 2
}
