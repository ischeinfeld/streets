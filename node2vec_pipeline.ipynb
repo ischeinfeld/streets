{
 "cells": [
  {
   "cell_type": "code",
   "execution_count": 5,
   "metadata": {},
   "outputs": [],
   "source": [
    "import networkx as nx\n",
    "import itertools\n",
    "import osmnx as ox\n",
    "import glob\n",
    "import itertools\n",
    "from matplotlib import cm\n",
    "import folium\n",
    "import matplotlib.pyplot as plt\n",
    "import time\n",
    "import numpy as np\n",
    "import pandas as pd\n",
    "from matplotlib.collections import LineCollection\n",
    "from osmnx.save_load import graph_to_gdfs\n",
    "from torch_geometric.utils import from_networkx\n",
    "import torch"
   ]
  },
  {
   "cell_type": "code",
   "execution_count": 6,
   "metadata": {},
   "outputs": [],
   "source": [
    "path =  \"experiments/preprocessed/\" + target + \"/\" + city + \".graphml\"\n",
    "# can be modified\n",
    "target = \"speed85\"\n",
    "city = \"san_francisco\"\n",
    "dim = 24"
   ]
  },
  {
   "cell_type": "code",
   "execution_count": 8,
   "metadata": {},
   "outputs": [
    {
     "ename": "FileNotFoundError",
     "evalue": "[Errno 2] No such file or directory: 'experiments/preprocessed/speed85/san_francisco.graphml'",
     "output_type": "error",
     "traceback": [
      "\u001b[0;31m---------------------------------------------------------------------------\u001b[0m",
      "\u001b[0;31mFileNotFoundError\u001b[0m                         Traceback (most recent call last)",
      "\u001b[0;32m<ipython-input-8-1bed0de3465e>\u001b[0m in \u001b[0;36m<module>\u001b[0;34m\u001b[0m\n\u001b[0;32m----> 1\u001b[0;31m \u001b[0mnx\u001b[0m \u001b[0;34m=\u001b[0m \u001b[0mnx\u001b[0m\u001b[0;34m.\u001b[0m\u001b[0mread_graphml\u001b[0m\u001b[0;34m(\u001b[0m\u001b[0mpath\u001b[0m\u001b[0;34m)\u001b[0m\u001b[0;34m\u001b[0m\u001b[0;34m\u001b[0m\u001b[0m\n\u001b[0m",
      "\u001b[0;32m</Users/demichel/cs224w/streets/env/lib/python3.7/site-packages/decorator.py:decorator-gen-785>\u001b[0m in \u001b[0;36mread_graphml\u001b[0;34m(path, node_type, edge_key_type)\u001b[0m\n",
      "\u001b[0;32m~/cs224w/streets/env/lib/python3.7/site-packages/networkx/utils/decorators.py\u001b[0m in \u001b[0;36m_open_file\u001b[0;34m(func_to_be_decorated, *args, **kwargs)\u001b[0m\n\u001b[1;32m    212\u001b[0m         \u001b[0;32mif\u001b[0m \u001b[0mis_string_like\u001b[0m\u001b[0;34m(\u001b[0m\u001b[0mpath\u001b[0m\u001b[0;34m)\u001b[0m\u001b[0;34m:\u001b[0m\u001b[0;34m\u001b[0m\u001b[0;34m\u001b[0m\u001b[0m\n\u001b[1;32m    213\u001b[0m             \u001b[0mext\u001b[0m \u001b[0;34m=\u001b[0m \u001b[0msplitext\u001b[0m\u001b[0;34m(\u001b[0m\u001b[0mpath\u001b[0m\u001b[0;34m)\u001b[0m\u001b[0;34m[\u001b[0m\u001b[0;36m1\u001b[0m\u001b[0;34m]\u001b[0m\u001b[0;34m\u001b[0m\u001b[0;34m\u001b[0m\u001b[0m\n\u001b[0;32m--> 214\u001b[0;31m             \u001b[0mfobj\u001b[0m \u001b[0;34m=\u001b[0m \u001b[0m_dispatch_dict\u001b[0m\u001b[0;34m[\u001b[0m\u001b[0mext\u001b[0m\u001b[0;34m]\u001b[0m\u001b[0;34m(\u001b[0m\u001b[0mpath\u001b[0m\u001b[0;34m,\u001b[0m \u001b[0mmode\u001b[0m\u001b[0;34m=\u001b[0m\u001b[0mmode\u001b[0m\u001b[0;34m)\u001b[0m\u001b[0;34m\u001b[0m\u001b[0;34m\u001b[0m\u001b[0m\n\u001b[0m\u001b[1;32m    215\u001b[0m             \u001b[0mclose_fobj\u001b[0m \u001b[0;34m=\u001b[0m \u001b[0;32mTrue\u001b[0m\u001b[0;34m\u001b[0m\u001b[0;34m\u001b[0m\u001b[0m\n\u001b[1;32m    216\u001b[0m         \u001b[0;32melif\u001b[0m \u001b[0mhasattr\u001b[0m\u001b[0;34m(\u001b[0m\u001b[0mpath\u001b[0m\u001b[0;34m,\u001b[0m \u001b[0;34m'read'\u001b[0m\u001b[0;34m)\u001b[0m\u001b[0;34m:\u001b[0m\u001b[0;34m\u001b[0m\u001b[0;34m\u001b[0m\u001b[0m\n",
      "\u001b[0;31mFileNotFoundError\u001b[0m: [Errno 2] No such file or directory: 'experiments/preprocessed/speed85/san_francisco.graphml'"
     ]
    }
   ],
   "source": [
    "LG = nx.read_graphml(path)\n",
    "edgelist_path =  'experiments/node2vec/edgelists/'+city+'.edgelist'\n",
    "nx.readwrite.edgelist.write_edgelist(LG, edgelist_path, data=False)"
   ]
  },
  {
   "cell_type": "code",
   "execution_count": 9,
   "metadata": {},
   "outputs": [],
   "source": [
    "import os"
   ]
  },
  {
   "cell_type": "code",
   "execution_count": null,
   "metadata": {},
   "outputs": [],
   "source": [
    "\"\"\"\n",
    "./snap/examples/node2vec/node2vec\n",
    "\n",
    "An algorithmic framework for representational learning on graphs. [Dec  9 2019]\n",
    "================================================================================\n",
    "usage: node2vec\n",
    "   -i:Input graph path (default:'graph/karate.edgelist')\n",
    "   -o:Output graph path (default:'emb/karate.emb')\n",
    "   -d:Number of dimensions. Default is 128 (default:128)\n",
    "   -l:Length of walk per source. Default is 80 (default:80)\n",
    "   -r:Number of walks per source. Default is 10 (default:10)\n",
    "   -k:Context size for optimization. Default is 10 (default:10)\n",
    "   -e:Number of epochs in SGD. Default is 1 (default:1)\n",
    "   -p:Return hyperparameter. Default is 1 (default:1)\n",
    "   -q:Inout hyperparameter. Default is 1 (default:1)\n",
    "   -v Verbose output.\n",
    "   -dr Graph is directed.\n",
    "   -w Graph is weighted.\n",
    "   -ow Output random walks instead of embeddings.\n",
    "\"\"\"\n",
    "node2vec_out = \"experiments/embeddings/node2vec/\" + city + \".emb\"\n",
    "os.system(\"./snap/examples/node2vec/node2vec -dr -i \" + edgelist_path \n",
    "          + \" -o \" + node2vec_out\n",
    "          + \" -d \" + dim)\n"
   ]
  }
 ],
 "metadata": {
  "kernelspec": {
   "display_name": "Python 3",
   "language": "python",
   "name": "python3"
  },
  "language_info": {
   "codemirror_mode": {
    "name": "ipython",
    "version": 3
   },
   "file_extension": ".py",
   "mimetype": "text/x-python",
   "name": "python",
   "nbconvert_exporter": "python",
   "pygments_lexer": "ipython3",
   "version": "3.7.4"
  }
 },
 "nbformat": 4,
 "nbformat_minor": 2
}
