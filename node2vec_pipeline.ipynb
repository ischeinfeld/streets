{
 "cells": [
  {
   "cell_type": "code",
   "execution_count": 14,
   "metadata": {},
   "outputs": [],
   "source": [
    "import networkx as nx\n",
    "import itertools\n",
    "import osmnx as ox\n",
    "import glob\n",
    "import itertools\n",
    "from matplotlib import cm\n",
    "import folium\n",
    "import matplotlib.pyplot as plt\n",
    "import time\n",
    "import numpy as np\n",
    "import pandas as pd\n",
    "from matplotlib.collections import LineCollection\n",
    "from osmnx.save_load import graph_to_gdfs\n",
    "from torch_geometric.utils import from_networkx\n",
    "import torch"
   ]
  },
  {
   "cell_type": "code",
   "execution_count": 18,
   "metadata": {},
   "outputs": [
    {
     "name": "stdout",
     "output_type": "stream",
     "text": [
      "./experiments/preprocessed/san_francisco.graphml\n"
     ]
    }
   ],
   "source": [
    "city = \"san_francisco\"\n",
    "path =  \"./experiments/preprocessed/\" + city + \".graphml\"\n",
    "# can be modified\n",
    "target = \"speed85\"\n",
    "print(path)\n",
    "dim = 24"
   ]
  },
  {
   "cell_type": "code",
   "execution_count": 19,
   "metadata": {},
   "outputs": [
    {
     "ename": "ParseError",
     "evalue": "no element found: line 1, column 0 (<string>)",
     "output_type": "error",
     "traceback": [
      "Traceback \u001b[0;36m(most recent call last)\u001b[0m:\n",
      "  File \u001b[1;32m\"/Users/demichel/cs224w/streets/env/lib/python3.7/site-packages/IPython/core/interactiveshell.py\"\u001b[0m, line \u001b[1;32m3326\u001b[0m, in \u001b[1;35mrun_code\u001b[0m\n    exec(code_obj, self.user_global_ns, self.user_ns)\n",
      "  File \u001b[1;32m\"<ipython-input-19-83a0ee3cf647>\"\u001b[0m, line \u001b[1;32m1\u001b[0m, in \u001b[1;35m<module>\u001b[0m\n    LG = nx.read_graphml(path)\n",
      "  File \u001b[1;32m\"</Users/demichel/cs224w/streets/env/lib/python3.7/site-packages/decorator.py:decorator-gen-785>\"\u001b[0m, line \u001b[1;32m2\u001b[0m, in \u001b[1;35mread_graphml\u001b[0m\n",
      "  File \u001b[1;32m\"/Users/demichel/cs224w/streets/env/lib/python3.7/site-packages/networkx/utils/decorators.py\"\u001b[0m, line \u001b[1;32m240\u001b[0m, in \u001b[1;35m_open_file\u001b[0m\n    result = func_to_be_decorated(*new_args, **kwargs)\n",
      "  File \u001b[1;32m\"/Users/demichel/cs224w/streets/env/lib/python3.7/site-packages/networkx/readwrite/graphml.py\"\u001b[0m, line \u001b[1;32m239\u001b[0m, in \u001b[1;35mread_graphml\u001b[0m\n    glist = list(reader(path=path))\n",
      "  File \u001b[1;32m\"/Users/demichel/cs224w/streets/env/lib/python3.7/site-packages/networkx/readwrite/graphml.py\"\u001b[0m, line \u001b[1;32m722\u001b[0m, in \u001b[1;35m__call__\u001b[0m\n    self.xml = ElementTree(file=path)\n",
      "  File \u001b[1;32m\"/Library/Frameworks/Python.framework/Versions/3.7/lib/python3.7/xml/etree/ElementTree.py\"\u001b[0m, line \u001b[1;32m558\u001b[0m, in \u001b[1;35m__init__\u001b[0m\n    self.parse(file)\n",
      "\u001b[0;36m  File \u001b[0;32m\"/Library/Frameworks/Python.framework/Versions/3.7/lib/python3.7/xml/etree/ElementTree.py\"\u001b[0;36m, line \u001b[0;32m598\u001b[0;36m, in \u001b[0;35mparse\u001b[0;36m\u001b[0m\n\u001b[0;31m    self._root = parser._parse_whole(source)\u001b[0m\n",
      "\u001b[0;36m  File \u001b[0;32m\"<string>\"\u001b[0;36m, line \u001b[0;32munknown\u001b[0m\n\u001b[0;31mParseError\u001b[0m\u001b[0;31m:\u001b[0m no element found: line 1, column 0\n"
     ]
    }
   ],
   "source": [
    "LG = nx.read_graphml(path)\n",
    "'''\n",
    "edgelist_path =  'experiments/node2vec/edgelists/'+city+'.edgelist'\n",
    "nx.readwrite.edgelist.write_edgelist(LG, edgelist_path, data=False)\n",
    "'''"
   ]
  },
  {
   "cell_type": "code",
   "execution_count": 9,
   "metadata": {},
   "outputs": [],
   "source": [
    "import os"
   ]
  },
  {
   "cell_type": "code",
   "execution_count": null,
   "metadata": {},
   "outputs": [],
   "source": [
    "\"\"\"\n",
    "./snap/examples/node2vec/node2vec\n",
    "\n",
    "An algorithmic framework for representational learning on graphs. [Dec  9 2019]\n",
    "================================================================================\n",
    "usage: node2vec\n",
    "   -i:Input graph path (default:'graph/karate.edgelist')\n",
    "   -o:Output graph path (default:'emb/karate.emb')\n",
    "   -d:Number of dimensions. Default is 128 (default:128)\n",
    "   -l:Length of walk per source. Default is 80 (default:80)\n",
    "   -r:Number of walks per source. Default is 10 (default:10)\n",
    "   -k:Context size for optimization. Default is 10 (default:10)\n",
    "   -e:Number of epochs in SGD. Default is 1 (default:1)\n",
    "   -p:Return hyperparameter. Default is 1 (default:1)\n",
    "   -q:Inout hyperparameter. Default is 1 (default:1)\n",
    "   -v Verbose output.\n",
    "   -dr Graph is directed.\n",
    "   -w Graph is weighted.\n",
    "   -ow Output random walks instead of embeddings.\n",
    "\"\"\"\n",
    "node2vec_out = \"experiments/embeddings/node2vec/\" + city + \".emb\"\n",
    "os.system(\"./snap/examples/node2vec/node2vec -dr -i \" + edgelist_path \n",
    "          + \" -o \" + node2vec_out\n",
    "          + \" -d \" + dim)\n"
   ]
  }
 ],
 "metadata": {
  "kernelspec": {
   "display_name": "Python 3",
   "language": "python",
   "name": "python3"
  },
  "language_info": {
   "codemirror_mode": {
    "name": "ipython",
    "version": 3
   },
   "file_extension": ".py",
   "mimetype": "text/x-python",
   "name": "python",
   "nbconvert_exporter": "python",
   "pygments_lexer": "ipython3",
   "version": "3.7.4"
  }
 },
 "nbformat": 4,
 "nbformat_minor": 2
}
