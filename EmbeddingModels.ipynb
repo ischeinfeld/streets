{
 "cells": [
  {
   "cell_type": "code",
   "execution_count": 117,
   "metadata": {},
   "outputs": [],
   "source": [
    "import networkx as nx\n",
    "import copy\n",
    "import itertools\n",
    "import osmnx as ox\n",
    "import glob\n",
    "import itertools\n",
    "from matplotlib import cm\n",
    "import matplotlib.pyplot as plt\n",
    "import time\n",
    "import numpy as np\n",
    "import pandas as pd\n",
    "from osmnx.save_load import graph_to_gdfs\n",
    "import os\n",
    "from itertools import islice\n",
    "import numpy as np\n",
    "from sklearn.linear_model import LinearRegression\n",
    "import statsmodels.api as sm\n",
    "import seaborn as sb\n",
    "\n",
    "\n",
    "%matplotlib inline\n",
    "ox.config(log_console=True, use_cache=True, data_folder='')"
   ]
  },
  {
   "cell_type": "markdown",
   "metadata": {},
   "source": [
    "## Configure"
   ]
  },
  {
   "cell_type": "code",
   "execution_count": 3,
   "metadata": {},
   "outputs": [],
   "source": [
    "run_label = \"san_francisco\""
   ]
  },
  {
   "cell_type": "code",
   "execution_count": 23,
   "metadata": {},
   "outputs": [],
   "source": [
    "config = pd.read_csv(\"config.csv\", quotechar='\"', skipinitialspace=True)\n",
    "\n",
    "config.set_index(\"label\", inplace=True)"
   ]
  },
  {
   "cell_type": "code",
   "execution_count": 24,
   "metadata": {},
   "outputs": [
    {
     "data": {
      "text/html": [
       "<div>\n",
       "<style scoped>\n",
       "    .dataframe tbody tr th:only-of-type {\n",
       "        vertical-align: middle;\n",
       "    }\n",
       "\n",
       "    .dataframe tbody tr th {\n",
       "        vertical-align: top;\n",
       "    }\n",
       "\n",
       "    .dataframe thead th {\n",
       "        text-align: right;\n",
       "    }\n",
       "</style>\n",
       "<table border=\"1\" class=\"dataframe\">\n",
       "  <thead>\n",
       "    <tr style=\"text-align: right;\">\n",
       "      <th></th>\n",
       "      <th>address</th>\n",
       "      <th>buffer</th>\n",
       "    </tr>\n",
       "    <tr>\n",
       "      <th>label</th>\n",
       "      <th></th>\n",
       "      <th></th>\n",
       "    </tr>\n",
       "  </thead>\n",
       "  <tbody>\n",
       "    <tr>\n",
       "      <th>san_francisco</th>\n",
       "      <td>San Francisco, California, USA</td>\n",
       "      <td>10000</td>\n",
       "    </tr>\n",
       "    <tr>\n",
       "      <th>new_york</th>\n",
       "      <td>New York City, New York, USA</td>\n",
       "      <td>10</td>\n",
       "    </tr>\n",
       "  </tbody>\n",
       "</table>\n",
       "</div>"
      ],
      "text/plain": [
       "                                      address  buffer\n",
       "label                                                \n",
       "san_francisco  San Francisco, California, USA   10000\n",
       "new_york         New York City, New York, USA      10"
      ]
     },
     "execution_count": 24,
     "metadata": {},
     "output_type": "execute_result"
    }
   ],
   "source": [
    "assert run_label in config.index\n",
    "config"
   ]
  },
  {
   "cell_type": "markdown",
   "metadata": {},
   "source": [
    "## Load Data"
   ]
  },
  {
   "cell_type": "code",
   "execution_count": 57,
   "metadata": {},
   "outputs": [],
   "source": [
    "LG = nx.read_graphml('experiments/line_graphs/' + run_label + \".graphml\", node_type=int)"
   ]
  },
  {
   "cell_type": "code",
   "execution_count": 58,
   "metadata": {},
   "outputs": [
    {
     "data": {
      "text/plain": [
       "84613"
      ]
     },
     "execution_count": 58,
     "metadata": {},
     "output_type": "execute_result"
    }
   ],
   "source": [
    "len(LG)"
   ]
  },
  {
   "cell_type": "code",
   "execution_count": 62,
   "metadata": {},
   "outputs": [
    {
     "name": "stdout",
     "output_type": "stream",
     "text": [
      "(52058, {'oneway': 'False', 'length': '63.638', 'speed_mph_mean': '15.025124999999997', 'speed_mph_p50': '14.870125000000002', 'speed_mph_p85': '19.146375'})\n",
      "(79710, {'oneway': 'True', 'length': '91.796', 'speed_mph_mean': '26.985', 'speed_mph_p50': '26.953000000000003', 'speed_mph_p85': '30.587666666666667'})\n",
      "(21972, {'oneway': 'True', 'length': '19.024', 'speed_mph_mean': '31.8625', 'speed_mph_p50': '32.348', 'speed_mph_p85': '37.51049999999999'})\n",
      "(6054, {'oneway': 'False', 'length': '87.7', 'speed_mph_mean': '16.874785714285714', 'speed_mph_p50': '16.703285714285716', 'speed_mph_p85': '19.33385714285714'})\n",
      "(30709, {'oneway': 'False', 'length': '73.13', 'speed_mph_mean': '11.46', 'speed_mph_p50': '11.773', 'speed_mph_p85': '14.0'})\n"
     ]
    }
   ],
   "source": [
    "for n in islice(LG.nodes(data=True), 5):\n",
    "    print(n)"
   ]
  },
  {
   "cell_type": "markdown",
   "metadata": {},
   "source": [
    "## Build Basic Features"
   ]
  },
  {
   "cell_type": "code",
   "execution_count": 172,
   "metadata": {},
   "outputs": [],
   "source": [
    "# feature 1, road length\n",
    "length = [LG.nodes[i][\"length\"] for i in range(len(LG))]\n",
    "\n",
    "# feature 2, one way?\n",
    "one_way = [LG.nodes[i][\"oneway\"] for i in range(len(LG))]\n",
    "\n",
    "# feature 3, out-degree\n",
    "out_degree = [LG.out_degree(i) for i in range(len(LG))]\n",
    "\n",
    "# feature 4, in-degree\n",
    "in_degree = [LG.in_degree(i) for i in range(len(LG))]\n",
    "\n",
    "# target 1, mean speed\n",
    "speed_mean = [LG.nodes[i].get(\"speed_mph_mean\", np.NaN) for i in range(len(LG))]\n",
    "\n",
    "# target 2, median speed\n",
    "speed_p50 = [LG.nodes[i].get(\"speed_mph_p50\", np.NaN) for i in range(len(LG))]\n",
    "\n",
    "# target 3, free flow speed\n",
    "speed_p85 = [LG.nodes[i].get(\"speed_mph_p85\", np.NaN) for i in range(len(LG))]"
   ]
  },
  {
   "cell_type": "code",
   "execution_count": 173,
   "metadata": {},
   "outputs": [],
   "source": [
    "features = pd.DataFrame({\"length\": length,\n",
    "                         \"one_way\": one_way,\n",
    "                         \"out_degree\": out_degree,\n",
    "                         \"in_degree\": in_degree})\n",
    "\n",
    "features[\"length\"] = features['length'].astype('float')\n",
    "features[\"one_way\"] = features['length'].astype('bool')\n",
    "\n",
    "targets = pd.DataFrame({\"speed_mean\": speed_mean,\n",
    "                        \"speed_p50\": speed_p50,\n",
    "                        \"speed_p85\": speed_p85})\n",
    "\n",
    "targets[\"speed_mean\"] = targets[\"speed_mean\"].astype('float')\n",
    "targets[\"speed_p50\"] = targets[\"speed_p50\"].astype('float')\n",
    "targets[\"speed_p85\"] = targets[\"speed_p85\"].astype('float')"
   ]
  },
  {
   "cell_type": "markdown",
   "metadata": {},
   "source": [
    "## Recursive Features"
   ]
  },
  {
   "cell_type": "code",
   "execution_count": 202,
   "metadata": {},
   "outputs": [],
   "source": [
    "def extend_recursive_features(LG, features, aggs=['mean']):\n",
    "    if type(features) == pd.core.frame.DataFrame:\n",
    "        features = features.to_numpy()\n",
    "    \n",
    "    rows, cols = features.shape\n",
    "    col_multiplier = 1 + 2 * len(aggs)\n",
    "    new_features = np.zeros((rows, col_multiplier * cols))\n",
    "    \n",
    "    new_features[:, :cols] = features\n",
    "    \n",
    "    for i in range(len(LG)):\n",
    "        pred = list(LG.predecessors(i))\n",
    "        succ = list(LG.successors(i))\n",
    "        \n",
    "        curr_col = cols\n",
    "        \n",
    "        if 'mean' in aggs:\n",
    "            if len(pred) > 0:\n",
    "                new_features[i, curr_col:curr_col+cols] = features[pred, :].mean(axis=0)\n",
    "                curr_col += cols\n",
    "            if len(succ) > 0:\n",
    "                new_features[i, curr_col:curr_col+cols] = features[succ, :].mean(axis=0)\n",
    "                curr_col += cols\n",
    "            \n",
    "        if 'sum' in aggs:\n",
    "            if len(pred) > 0:\n",
    "                new_features[i, curr_col:curr_col+cols] = features[pred, :].sum(axis=0)\n",
    "                curr_col += cols\n",
    "            if len(succ) > 0:\n",
    "                new_features[i, curr_col:curr_col+cols] = features[succ, :].sum(axis=0)\n",
    "                curr_col += cols\n",
    "                \n",
    "        if 'max' in aggs:\n",
    "            if len(pred) > 0:\n",
    "                new_features[i, curr_col:curr_col+cols] = features[pred, :].sum(axis=0)\n",
    "                curr_col += cols\n",
    "            if len(succ) > 0:\n",
    "                new_features[i, curr_col:curr_col+cols] = features[succ, :].sum(axis=0)\n",
    "                curr_col += cols\n",
    "            \n",
    "    return new_features\n",
    "\n",
    "def build_recursive_features(LG, features, n, aggs=['mean']):\n",
    "    for i in range(n):\n",
    "        features = extend_recursive_features(LG, features)\n",
    "    return features"
   ]
  },
  {
   "cell_type": "code",
   "execution_count": 213,
   "metadata": {},
   "outputs": [],
   "source": [
    "X = features[[\"length\", \"in_degree\", \"out_degree\"]]\n",
    "X_1 = build_recursive_features(LG, X, 1, aggs=['mean', 'sum', 'max'])\n",
    "X_2 = build_recursive_features(LG, X, 2, aggs=['mean', 'sum', 'max'])\n",
    "\n",
    "X = sm.add_constant(X)\n",
    "X_1 = sm.add_constant(X_1)\n",
    "X_2 = sm.add_constant(X_2)\n",
    "\n",
    "Y = targets[\"speed_p85\"]"
   ]
  },
  {
   "cell_type": "markdown",
   "metadata": {},
   "source": [
    "## Linear Model"
   ]
  },
  {
   "cell_type": "code",
   "execution_count": 214,
   "metadata": {
    "scrolled": true
   },
   "outputs": [
    {
     "name": "stdout",
     "output_type": "stream",
     "text": [
      "                            OLS Regression Results                            \n",
      "==============================================================================\n",
      "Dep. Variable:              speed_p85   R-squared:                       0.282\n",
      "Model:                            OLS   Adj. R-squared:                  0.282\n",
      "Method:                 Least Squares   F-statistic:                     6467.\n",
      "Date:                Mon, 09 Dec 2019   Prob (F-statistic):               0.00\n",
      "Time:                        16:38:43   Log-Likelihood:            -1.6429e+05\n",
      "No. Observations:               49440   AIC:                         3.286e+05\n",
      "Df Residuals:                   49436   BIC:                         3.286e+05\n",
      "Df Model:                           3                                         \n",
      "Covariance Type:            nonrobust                                         \n",
      "==============================================================================\n",
      "                 coef    std err          t      P>|t|      [0.025      0.975]\n",
      "------------------------------------------------------------------------------\n",
      "const         34.4519      0.133    259.900      0.000      34.192      34.712\n",
      "length         0.0182      0.000     89.766      0.000       0.018       0.019\n",
      "in_degree     -1.9776      0.042    -46.739      0.000      -2.061      -1.895\n",
      "out_degree    -2.1261      0.042    -50.051      0.000      -2.209      -2.043\n",
      "==============================================================================\n",
      "Omnibus:                    11657.016   Durbin-Watson:                   1.343\n",
      "Prob(Omnibus):                  0.000   Jarque-Bera (JB):            91248.128\n",
      "Skew:                           0.922   Prob(JB):                         0.00\n",
      "Kurtosis:                       9.395   Cond. No.                         880.\n",
      "==============================================================================\n",
      "\n",
      "Warnings:\n",
      "[1] Standard Errors assume that the covariance matrix of the errors is correctly specified.\n",
      "                            OLS Regression Results                            \n",
      "==============================================================================\n",
      "Dep. Variable:              speed_p85   R-squared:                       0.346\n",
      "Model:                            OLS   Adj. R-squared:                  0.346\n",
      "Method:                 Least Squares   F-statistic:                     2908.\n",
      "Date:                Mon, 09 Dec 2019   Prob (F-statistic):               0.00\n",
      "Time:                        16:38:43   Log-Likelihood:            -1.6197e+05\n",
      "No. Observations:               49440   AIC:                         3.240e+05\n",
      "Df Residuals:                   49430   BIC:                         3.241e+05\n",
      "Df Model:                           9                                         \n",
      "Covariance Type:            nonrobust                                         \n",
      "==============================================================================\n",
      "                 coef    std err          t      P>|t|      [0.025      0.975]\n",
      "------------------------------------------------------------------------------\n",
      "const         35.6446      0.157    227.578      0.000      35.338      35.952\n",
      "x1             0.0113      0.000     49.769      0.000       0.011       0.012\n",
      "x2            -0.2539      0.080     -3.193      0.001      -0.410      -0.098\n",
      "x3            -0.3150      0.080     -3.957      0.000      -0.471      -0.159\n",
      "x4             0.0081      0.000     31.432      0.000       0.008       0.009\n",
      "x5            -0.9946      0.069    -14.410      0.000      -1.130      -0.859\n",
      "x6            -1.1618      0.085    -13.741      0.000      -1.327      -0.996\n",
      "x7             0.0103      0.000     38.030      0.000       0.010       0.011\n",
      "x8            -1.2564      0.084    -14.961      0.000      -1.421      -1.092\n",
      "x9            -1.0130      0.069    -14.690      0.000      -1.148      -0.878\n",
      "==============================================================================\n",
      "Omnibus:                     6821.302   Durbin-Watson:                   1.295\n",
      "Prob(Omnibus):                  0.000   Jarque-Bera (JB):            30826.986\n",
      "Skew:                           0.610   Prob(JB):                         0.00\n",
      "Kurtosis:                       6.671   Cond. No.                     1.60e+03\n",
      "==============================================================================\n",
      "\n",
      "Warnings:\n",
      "[1] Standard Errors assume that the covariance matrix of the errors is correctly specified.\n",
      "[2] The condition number is large, 1.6e+03. This might indicate that there are\n",
      "strong multicollinearity or other numerical problems.\n"
     ]
    }
   ],
   "source": [
    "model = sm.OLS(Y, X, missing='drop')\n",
    "model_1 = sm.OLS(Y, X_1, missing='drop')\n",
    "model_2 = sm.OLS(Y, X_2, missing='drop')\n",
    "\n",
    "fit = model.fit()\n",
    "fit_1 = model_1.fit()\n",
    "fit_2 = model_2.fit()\n",
    "\n",
    "print(fit.summary())\n",
    "print(fit_1.summary())\n",
    "#print(fit_2.summary())"
   ]
  },
  {
   "cell_type": "code",
   "execution_count": 215,
   "metadata": {},
   "outputs": [
    {
     "name": "stdout",
     "output_type": "stream",
     "text": [
      "                            OLS Regression Results                            \n",
      "==============================================================================\n",
      "Dep. Variable:              speed_p85   R-squared:                       0.282\n",
      "Model:                            OLS   Adj. R-squared:                  0.282\n",
      "Method:                 Least Squares   F-statistic:                     6467.\n",
      "Date:                Mon, 09 Dec 2019   Prob (F-statistic):               0.00\n",
      "Time:                        16:39:08   Log-Likelihood:            -1.6429e+05\n",
      "No. Observations:               49440   AIC:                         3.286e+05\n",
      "Df Residuals:                   49436   BIC:                         3.286e+05\n",
      "Df Model:                           3                                         \n",
      "Covariance Type:            nonrobust                                         \n",
      "==============================================================================\n",
      "                 coef    std err          t      P>|t|      [0.025      0.975]\n",
      "------------------------------------------------------------------------------\n",
      "const         34.4519      0.133    259.900      0.000      34.192      34.712\n",
      "length         0.0182      0.000     89.766      0.000       0.018       0.019\n",
      "in_degree     -1.9776      0.042    -46.739      0.000      -2.061      -1.895\n",
      "out_degree    -2.1261      0.042    -50.051      0.000      -2.209      -2.043\n",
      "==============================================================================\n",
      "Omnibus:                    11657.016   Durbin-Watson:                   1.343\n",
      "Prob(Omnibus):                  0.000   Jarque-Bera (JB):            91248.128\n",
      "Skew:                           0.922   Prob(JB):                         0.00\n",
      "Kurtosis:                       9.395   Cond. No.                         880.\n",
      "==============================================================================\n",
      "\n",
      "Warnings:\n",
      "[1] Standard Errors assume that the covariance matrix of the errors is correctly specified.\n",
      "                            OLS Regression Results                            \n",
      "==============================================================================\n",
      "Dep. Variable:              speed_p85   R-squared:                       0.346\n",
      "Model:                            OLS   Adj. R-squared:                  0.346\n",
      "Method:                 Least Squares   F-statistic:                     2908.\n",
      "Date:                Mon, 09 Dec 2019   Prob (F-statistic):               0.00\n",
      "Time:                        16:39:08   Log-Likelihood:            -1.6197e+05\n",
      "No. Observations:               49440   AIC:                         3.240e+05\n",
      "Df Residuals:                   49430   BIC:                         3.241e+05\n",
      "Df Model:                           9                                         \n",
      "Covariance Type:            nonrobust                                         \n",
      "==============================================================================\n",
      "                 coef    std err          t      P>|t|      [0.025      0.975]\n",
      "------------------------------------------------------------------------------\n",
      "const         35.6446      0.157    227.578      0.000      35.338      35.952\n",
      "x1             0.0113      0.000     49.769      0.000       0.011       0.012\n",
      "x2            -0.2539      0.080     -3.193      0.001      -0.410      -0.098\n",
      "x3            -0.3150      0.080     -3.957      0.000      -0.471      -0.159\n",
      "x4             0.0081      0.000     31.432      0.000       0.008       0.009\n",
      "x5            -0.9946      0.069    -14.410      0.000      -1.130      -0.859\n",
      "x6            -1.1618      0.085    -13.741      0.000      -1.327      -0.996\n",
      "x7             0.0103      0.000     38.030      0.000       0.010       0.011\n",
      "x8            -1.2564      0.084    -14.961      0.000      -1.421      -1.092\n",
      "x9            -1.0130      0.069    -14.690      0.000      -1.148      -0.878\n",
      "==============================================================================\n",
      "Omnibus:                     6821.302   Durbin-Watson:                   1.295\n",
      "Prob(Omnibus):                  0.000   Jarque-Bera (JB):            30826.986\n",
      "Skew:                           0.610   Prob(JB):                         0.00\n",
      "Kurtosis:                       6.671   Cond. No.                     1.60e+03\n",
      "==============================================================================\n",
      "\n",
      "Warnings:\n",
      "[1] Standard Errors assume that the covariance matrix of the errors is correctly specified.\n",
      "[2] The condition number is large, 1.6e+03. This might indicate that there are\n",
      "strong multicollinearity or other numerical problems.\n"
     ]
    }
   ],
   "source": [
    "model = sm.OLS(Y, X, missing='drop')\n",
    "model_1 = sm.OLS(Y, X_1, missing='drop')\n",
    "model_2 = sm.OLS(Y, X_2, missing='drop')\n",
    "\n",
    "fit = model.fit()\n",
    "fit_1 = model_1.fit()\n",
    "fit_2 = model_2.fit()\n",
    "\n",
    "print(fit.summary())\n",
    "print(fit_1.summary())"
   ]
  },
  {
   "cell_type": "code",
   "execution_count": 217,
   "metadata": {},
   "outputs": [
    {
     "ename": "NotImplementedError",
     "evalue": "",
     "output_type": "error",
     "traceback": [
      "\u001b[0;31m---------------------------------------------------------------------------\u001b[0m",
      "\u001b[0;31mNotImplementedError\u001b[0m                       Traceback (most recent call last)",
      "\u001b[0;32m<ipython-input-217-2401ea451c28>\u001b[0m in \u001b[0;36m<module>\u001b[0;34m\u001b[0m\n\u001b[1;32m      3\u001b[0m \u001b[0mfit_reg_2\u001b[0m \u001b[0;34m=\u001b[0m \u001b[0mmodel_2\u001b[0m\u001b[0;34m.\u001b[0m\u001b[0mfit_regularized\u001b[0m\u001b[0;34m(\u001b[0m\u001b[0;34m)\u001b[0m\u001b[0;34m\u001b[0m\u001b[0;34m\u001b[0m\u001b[0m\n\u001b[1;32m      4\u001b[0m \u001b[0;34m\u001b[0m\u001b[0m\n\u001b[0;32m----> 5\u001b[0;31m \u001b[0mprint\u001b[0m\u001b[0;34m(\u001b[0m\u001b[0mfit_reg\u001b[0m\u001b[0;34m.\u001b[0m\u001b[0msummary\u001b[0m\u001b[0;34m(\u001b[0m\u001b[0;34m)\u001b[0m\u001b[0;34m)\u001b[0m\u001b[0;34m\u001b[0m\u001b[0;34m\u001b[0m\u001b[0m\n\u001b[0m\u001b[1;32m      6\u001b[0m \u001b[0mprint\u001b[0m\u001b[0;34m(\u001b[0m\u001b[0mfit_reg_1\u001b[0m\u001b[0;34m.\u001b[0m\u001b[0msummary\u001b[0m\u001b[0;34m(\u001b[0m\u001b[0;34m)\u001b[0m\u001b[0;34m)\u001b[0m\u001b[0;34m\u001b[0m\u001b[0;34m\u001b[0m\u001b[0m\n\u001b[1;32m      7\u001b[0m \u001b[0;31m#print(fit_2.summary())\u001b[0m\u001b[0;34m\u001b[0m\u001b[0;34m\u001b[0m\u001b[0;34m\u001b[0m\u001b[0m\n",
      "\u001b[0;32m~/streets/env/lib/python3.6/site-packages/statsmodels/base/model.py\u001b[0m in \u001b[0;36msummary\u001b[0;34m(self)\u001b[0m\n\u001b[1;32m   1053\u001b[0m         \u001b[0mNot\u001b[0m \u001b[0mimplemented\u001b[0m\u001b[0;34m\u001b[0m\u001b[0;34m\u001b[0m\u001b[0m\n\u001b[1;32m   1054\u001b[0m         \"\"\"\n\u001b[0;32m-> 1055\u001b[0;31m         \u001b[0;32mraise\u001b[0m \u001b[0mNotImplementedError\u001b[0m\u001b[0;34m\u001b[0m\u001b[0;34m\u001b[0m\u001b[0m\n\u001b[0m\u001b[1;32m   1056\u001b[0m \u001b[0;34m\u001b[0m\u001b[0m\n\u001b[1;32m   1057\u001b[0m \u001b[0;34m\u001b[0m\u001b[0m\n",
      "\u001b[0;31mNotImplementedError\u001b[0m: "
     ]
    }
   ],
   "source": [
    "fit_reg = model.fit_regularized()\n",
    "fit_reg_1 = model_1.fit_regularized()\n",
    "fit_reg_2 = model_2.fit_regularized()\n",
    "\n",
    "print(fit_reg.summary())\n",
    "print(fit_reg_1.summary())\n",
    "#print(fit_2.summary())"
   ]
  },
  {
   "cell_type": "code",
   "execution_count": null,
   "metadata": {},
   "outputs": [],
   "source": [
    "type(fit_reg)"
   ]
  },
  {
   "cell_type": "code",
   "execution_count": 211,
   "metadata": {},
   "outputs": [
    {
     "data": {
      "image/png": "[encoded data removed]",
      "text/plain": [
       "<Figure size 864x576 with 3 Axes>"
      ]
     },
     "metadata": {
      "needs_background": "light"
     },
     "output_type": "display_data"
    }
   ],
   "source": [
    "Ypred = fit.predict(X)\n",
    "Ypred_1 = fit_1.predict(X_1)\n",
    "Ypred_2 = fit_2.predict(X_2)\n",
    "\n",
    "f, axes = plt.subplots(3, figsize=(12,8), sharex=True)\n",
    "max_val = max(Ypred.max(), Ypred_1.max(), Ypred_2.max())\n",
    "for i, Ypred in enumerate([Ypred, Ypred_1, Ypred_2]):\n",
    "    axes[i].set_aspect('equal')\n",
    "    axes[i].set_xlim(0, max_val + 5)\n",
    "    axes[i].set_ylim(0, max_val + 5)\n",
    "    axes[i].set_xlabel(\"Ypred\")\n",
    "    axes[i].set_ylabel(\"Y\")\n",
    "    axes[i].scatter(Ypred, Y)"
   ]
  },
  {
   "cell_type": "code",
   "execution_count": 176,
   "metadata": {},
   "outputs": [
    {
     "data": {
      "text/plain": [
       "<matplotlib.axes._subplots.AxesSubplot at 0x7f8dfa9a2470>"
      ]
     },
     "execution_count": 176,
     "metadata": {},
     "output_type": "execute_result"
    },
    {
     "data": {
      "image/png": "[encoded data removed]",
      "text/plain": [
       "<Figure size 432x288 with 1 Axes>"
      ]
     },
     "metadata": {
      "needs_background": "light"
     },
     "output_type": "display_data"
    }
   ],
   "source": [
    "sb.distplot(Y[~Y.isna()])"
   ]
  },
  {
   "cell_type": "code",
   "execution_count": 189,
   "metadata": {},
   "outputs": [],
   "source": [
    "rec_features = build_recursive_features(LG, X, 1)"
   ]
  },
  {
   "cell_type": "code",
   "execution_count": 190,
   "metadata": {},
   "outputs": [
    {
     "data": {
      "text/plain": [
       "(84613, 20)"
      ]
     },
     "execution_count": 190,
     "metadata": {},
     "output_type": "execute_result"
    }
   ],
   "source": [
    "rec_features.shape"
   ]
  },
  {
   "cell_type": "code",
   "execution_count": null,
   "metadata": {},
   "outputs": [],
   "source": [
    "X = build_recursive_features(LG, X, 1)\n",
    "X = sm.add_constant(X)\n",
    "Y = targets[\"speed_p85\"]\n",
    "\n",
    "model = sm.OLS(Y, X, missing='drop')\n",
    "fit = model.fit()\n",
    "\n",
    "print(fit.summary())"
   ]
  }
 ],
 "metadata": {
  "kernelspec": {
   "display_name": "Python 3",
   "language": "python",
   "name": "python3"
  },
  "language_info": {
   "codemirror_mode": {
    "name": "ipython",
    "version": 3
   },
   "file_extension": ".py",
   "mimetype": "text/x-python",
   "name": "python",
   "nbconvert_exporter": "python",
   "pygments_lexer": "ipython3",
   "version": "3.6.9"
  }
 },
 "nbformat": 4,
 "nbformat_minor": 2
}
