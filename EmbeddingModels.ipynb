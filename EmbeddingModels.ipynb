{
 "cells": [
  {
   "cell_type": "code",
   "execution_count": 233,
   "metadata": {},
   "outputs": [],
   "source": [
    "import networkx as nx\n",
    "import copy\n",
    "import itertools\n",
    "import osmnx as ox\n",
    "import glob\n",
    "import itertools\n",
    "from matplotlib import cm\n",
    "import matplotlib.pyplot as plt\n",
    "import time\n",
    "import numpy as np\n",
    "import pandas as pd\n",
    "from osmnx.save_load import graph_to_gdfs\n",
    "import os\n",
    "from itertools import islice\n",
    "import numpy as np\n",
    "from sklearn.linear_model import LinearRegression\n",
    "import statsmodels.api as sm\n",
    "import seaborn as sb\n",
    "from sklearn.cluster import KMeans\n",
    "\n",
    "\n",
    "%matplotlib inline\n",
    "ox.config(log_console=True, use_cache=True, data_folder='')"
   ]
  },
  {
   "cell_type": "markdown",
   "metadata": {},
   "source": [
    "## Configure"
   ]
  },
  {
   "cell_type": "code",
   "execution_count": 240,
   "metadata": {},
   "outputs": [],
   "source": [
    "run_label = \"new_york\""
   ]
  },
  {
   "cell_type": "code",
   "execution_count": 241,
   "metadata": {},
   "outputs": [],
   "source": [
    "config = pd.read_csv(\"config.csv\", quotechar='\"', skipinitialspace=True)\n",
    "\n",
    "config.set_index(\"label\", inplace=True)"
   ]
  },
  {
   "cell_type": "code",
   "execution_count": 242,
   "metadata": {},
   "outputs": [
    {
     "data": {
      "text/html": [
       "<div>\n",
       "<style scoped>\n",
       "    .dataframe tbody tr th:only-of-type {\n",
       "        vertical-align: middle;\n",
       "    }\n",
       "\n",
       "    .dataframe tbody tr th {\n",
       "        vertical-align: top;\n",
       "    }\n",
       "\n",
       "    .dataframe thead th {\n",
       "        text-align: right;\n",
       "    }\n",
       "</style>\n",
       "<table border=\"1\" class=\"dataframe\">\n",
       "  <thead>\n",
       "    <tr style=\"text-align: right;\">\n",
       "      <th></th>\n",
       "      <th>address</th>\n",
       "      <th>buffer</th>\n",
       "    </tr>\n",
       "    <tr>\n",
       "      <th>label</th>\n",
       "      <th></th>\n",
       "      <th></th>\n",
       "    </tr>\n",
       "  </thead>\n",
       "  <tbody>\n",
       "    <tr>\n",
       "      <th>san_francisco</th>\n",
       "      <td>San Francisco, California, USA</td>\n",
       "      <td>10000</td>\n",
       "    </tr>\n",
       "    <tr>\n",
       "      <th>new_york</th>\n",
       "      <td>New York City, New York, USA</td>\n",
       "      <td>10</td>\n",
       "    </tr>\n",
       "  </tbody>\n",
       "</table>\n",
       "</div>"
      ],
      "text/plain": [
       "                                      address  buffer\n",
       "label                                                \n",
       "san_francisco  San Francisco, California, USA   10000\n",
       "new_york         New York City, New York, USA      10"
      ]
     },
     "execution_count": 242,
     "metadata": {},
     "output_type": "execute_result"
    }
   ],
   "source": [
    "assert run_label in config.index\n",
    "config"
   ]
  },
  {
   "cell_type": "markdown",
   "metadata": {},
   "source": [
    "## Load Data"
   ]
  },
  {
   "cell_type": "code",
   "execution_count": 256,
   "metadata": {},
   "outputs": [],
   "source": [
    "G = nx.read_graphml('experiments/graphs/' + run_label + \".graphml\", node_type=int)"
   ]
  },
  {
   "cell_type": "code",
   "execution_count": 257,
   "metadata": {},
   "outputs": [],
   "source": [
    "LG = nx.read_graphml('experiments/line_graphs/' + run_label + \".graphml\", node_type=int)"
   ]
  },
  {
   "cell_type": "markdown",
   "metadata": {},
   "source": [
    "## Build Basic Features"
   ]
  },
  {
   "cell_type": "code",
   "execution_count": 245,
   "metadata": {},
   "outputs": [],
   "source": [
    "# feature 1, road length\n",
    "length = [LG.nodes[i][\"length\"] for i in range(len(LG))]\n",
    "\n",
    "# feature 2, one way?\n",
    "one_way = [LG.nodes[i][\"oneway\"] for i in range(len(LG))]\n",
    "\n",
    "# feature 3, out-degree\n",
    "out_degree = [LG.out_degree(i) for i in range(len(LG))]\n",
    "\n",
    "# feature 4, in-degree\n",
    "in_degree = [LG.in_degree(i) for i in range(len(LG))]\n",
    "\n",
    "# target 1, mean speed\n",
    "speed_mean = [LG.nodes[i].get(\"speed_mph_mean\", np.NaN) for i in range(len(LG))]\n",
    "\n",
    "# target 2, median speed\n",
    "speed_p50 = [LG.nodes[i].get(\"speed_mph_p50\", np.NaN) for i in range(len(LG))]\n",
    "\n",
    "# target 3, free flow speed\n",
    "speed_p85 = [LG.nodes[i].get(\"speed_mph_p85\", np.NaN) for i in range(len(LG))]"
   ]
  },
  {
   "cell_type": "code",
   "execution_count": 246,
   "metadata": {},
   "outputs": [],
   "source": [
    "features = pd.DataFrame({\"length\": length,\n",
    "                         \"one_way\": one_way,\n",
    "                         \"out_degree\": out_degree,\n",
    "                         \"in_degree\": in_degree})\n",
    "\n",
    "features[\"length\"] = features['length'].astype('float')\n",
    "features[\"one_way\"] = features['length'].astype('bool')\n",
    "\n",
    "targets = pd.DataFrame({\"speed_mean\": speed_mean,\n",
    "                        \"speed_p50\": speed_p50,\n",
    "                        \"speed_p85\": speed_p85})\n",
    "\n",
    "targets[\"speed_mean\"] = targets[\"speed_mean\"].astype('float')\n",
    "targets[\"speed_p50\"] = targets[\"speed_p50\"].astype('float')\n",
    "targets[\"speed_p85\"] = targets[\"speed_p85\"].astype('float')"
   ]
  },
  {
   "cell_type": "markdown",
   "metadata": {},
   "source": [
    "## Recursive Features"
   ]
  },
  {
   "cell_type": "code",
   "execution_count": 247,
   "metadata": {},
   "outputs": [],
   "source": [
    "def extend_recursive_features(LG, features, aggs=['mean']):\n",
    "    if type(features) == pd.core.frame.DataFrame:\n",
    "        features = features.to_numpy()\n",
    "    \n",
    "    rows, cols = features.shape\n",
    "    col_multiplier = 1 + 2 * len(aggs)\n",
    "    new_features = np.zeros((rows, col_multiplier * cols))\n",
    "    \n",
    "    new_features[:, :cols] = features\n",
    "    \n",
    "    for i in range(len(LG)):\n",
    "        pred = list(LG.predecessors(i))\n",
    "        succ = list(LG.successors(i))\n",
    "        \n",
    "        curr_col = cols\n",
    "        \n",
    "        if 'mean' in aggs:\n",
    "            if len(pred) > 0:\n",
    "                new_features[i, curr_col:curr_col+cols] = features[pred, :].mean(axis=0)\n",
    "                curr_col += cols\n",
    "            if len(succ) > 0:\n",
    "                new_features[i, curr_col:curr_col+cols] = features[succ, :].mean(axis=0)\n",
    "                curr_col += cols\n",
    "            \n",
    "        if 'sum' in aggs:\n",
    "            if len(pred) > 0:\n",
    "                new_features[i, curr_col:curr_col+cols] = features[pred, :].sum(axis=0)\n",
    "                curr_col += cols\n",
    "            if len(succ) > 0:\n",
    "                new_features[i, curr_col:curr_col+cols] = features[succ, :].sum(axis=0)\n",
    "                curr_col += cols\n",
    "                \n",
    "        if 'max' in aggs:\n",
    "            if len(pred) > 0:\n",
    "                new_features[i, curr_col:curr_col+cols] = features[pred, :].sum(axis=0)\n",
    "                curr_col += cols\n",
    "            if len(succ) > 0:\n",
    "                new_features[i, curr_col:curr_col+cols] = features[succ, :].sum(axis=0)\n",
    "                curr_col += cols\n",
    "            \n",
    "    return new_features\n",
    "\n",
    "def build_recursive_features(LG, features, n, aggs=['mean']):\n",
    "    for i in range(n):\n",
    "        features = extend_recursive_features(LG, features)\n",
    "    return features"
   ]
  },
  {
   "cell_type": "code",
   "execution_count": 249,
   "metadata": {},
   "outputs": [],
   "source": [
    "X = features[[\"length\", \"in_degree\", \"out_degree\"]]\n",
    "X_1 = build_recursive_features(LG, X, 1, aggs=['sum'])\n",
    "X_2 = build_recursive_features(LG, X, 2, aggs=['sum'])\n",
    "\n",
    "Y = targets[\"speed_p85\"]"
   ]
  },
  {
   "cell_type": "markdown",
   "metadata": {},
   "source": [
    "## Linear Model"
   ]
  },
  {
   "cell_type": "code",
   "execution_count": 250,
   "metadata": {
    "scrolled": true
   },
   "outputs": [
    {
     "name": "stderr",
     "output_type": "stream",
     "text": [
      "/home/isaac/streets/env/lib/python3.6/site-packages/numpy/core/fromnumeric.py:2495: FutureWarning: Method .ptp is deprecated and will be removed in a future version. Use numpy.ptp instead.\n",
      "  return ptp(axis=axis, out=out, **kwargs)\n"
     ]
    },
    {
     "name": "stdout",
     "output_type": "stream",
     "text": [
      "                            OLS Regression Results                            \n",
      "==============================================================================\n",
      "Dep. Variable:              speed_p85   R-squared:                       0.068\n",
      "Model:                            OLS   Adj. R-squared:                  0.068\n",
      "Method:                 Least Squares   F-statistic:                     2371.\n",
      "Date:                Mon, 09 Dec 2019   Prob (F-statistic):               0.00\n",
      "Time:                        18:17:54   Log-Likelihood:            -3.1498e+05\n",
      "No. Observations:               97733   AIC:                         6.300e+05\n",
      "Df Residuals:                   97729   BIC:                         6.300e+05\n",
      "Df Model:                           3                                         \n",
      "Covariance Type:            nonrobust                                         \n",
      "==============================================================================\n",
      "                 coef    std err          t      P>|t|      [0.025      0.975]\n",
      "------------------------------------------------------------------------------\n",
      "const         23.7270      0.081    293.116      0.000      23.568      23.886\n",
      "length         0.0126      0.000     76.741      0.000       0.012       0.013\n",
      "in_degree     -0.3617      0.028    -13.015      0.000      -0.416      -0.307\n",
      "out_degree    -0.3901      0.028    -14.058      0.000      -0.444      -0.336\n",
      "==============================================================================\n",
      "Omnibus:                    13930.211   Durbin-Watson:                   1.312\n",
      "Prob(Omnibus):                  0.000   Jarque-Bera (JB):            40224.429\n",
      "Skew:                           0.767   Prob(JB):                         0.00\n",
      "Kurtosis:                       5.743   Cond. No.                         710.\n",
      "==============================================================================\n",
      "\n",
      "Warnings:\n",
      "[1] Standard Errors assume that the covariance matrix of the errors is correctly specified.\n",
      "                            OLS Regression Results                            \n",
      "==============================================================================\n",
      "Dep. Variable:              speed_p85   R-squared:                       0.145\n",
      "Model:                            OLS   Adj. R-squared:                  0.144\n",
      "Method:                 Least Squares   F-statistic:                     1835.\n",
      "Date:                Mon, 09 Dec 2019   Prob (F-statistic):               0.00\n",
      "Time:                        18:17:54   Log-Likelihood:            -3.1078e+05\n",
      "No. Observations:               97733   AIC:                         6.216e+05\n",
      "Df Residuals:                   97723   BIC:                         6.217e+05\n",
      "Df Model:                           9                                         \n",
      "Covariance Type:            nonrobust                                         \n",
      "==============================================================================\n",
      "                 coef    std err          t      P>|t|      [0.025      0.975]\n",
      "------------------------------------------------------------------------------\n",
      "const         22.4244      0.100    224.668      0.000      22.229      22.620\n",
      "x1             0.0055      0.000     31.078      0.000       0.005       0.006\n",
      "x2             0.0292      0.037      0.787      0.431      -0.044       0.102\n",
      "x3             0.3381      0.037      9.131      0.000       0.266       0.411\n",
      "x4             0.0100      0.000     52.434      0.000       0.010       0.010\n",
      "x5             0.1934      0.044      4.371      0.000       0.107       0.280\n",
      "x6            -0.4686      0.041    -11.452      0.000      -0.549      -0.388\n",
      "x7             0.0113      0.000     58.721      0.000       0.011       0.012\n",
      "x8            -1.0003      0.041    -24.199      0.000      -1.081      -0.919\n",
      "x9             0.0316      0.044      0.713      0.476      -0.055       0.118\n",
      "==============================================================================\n",
      "Omnibus:                     7965.145   Durbin-Watson:                   1.304\n",
      "Prob(Omnibus):                  0.000   Jarque-Bera (JB):            19351.959\n",
      "Skew:                           0.496   Prob(JB):                         0.00\n",
      "Kurtosis:                       4.941   Cond. No.                     1.38e+03\n",
      "==============================================================================\n",
      "\n",
      "Warnings:\n",
      "[1] Standard Errors assume that the covariance matrix of the errors is correctly specified.\n",
      "[2] The condition number is large, 1.38e+03. This might indicate that there are\n",
      "strong multicollinearity or other numerical problems.\n"
     ]
    }
   ],
   "source": [
    "model = sm.OLS(Y, sm.add_constant(X), missing='drop')\n",
    "model_1 = sm.OLS(Y, sm.add_constant(X_1), missing='drop')\n",
    "model_2 = sm.OLS(Y, sm.add_constant(X_2), missing='drop')\n",
    "\n",
    "fit = model.fit()\n",
    "fit_1 = model_1.fit()\n",
    "fit_2 = model_2.fit()\n",
    "\n",
    "print(fit.summary())\n",
    "print(fit_1.summary())\n",
    "#print(fit_2.summary())"
   ]
  },
  {
   "cell_type": "code",
   "execution_count": 230,
   "metadata": {},
   "outputs": [
    {
     "data": {
      "image/png": "[encoded data removed]",
      "text/plain": [
       "<Figure size 864x576 with 3 Axes>"
      ]
     },
     "metadata": {
      "needs_background": "light"
     },
     "output_type": "display_data"
    }
   ],
   "source": [
    "Ypred = fit.predict(X)\n",
    "Ypred_1 = fit_1.predict(X_1)\n",
    "Ypred_2 = fit_2.predict(X_2)\n",
    "\n",
    "f, axes = plt.subplots(3, figsize=(12,8), sharex=True)\n",
    "max_val = max(Ypred.max(), Ypred_1.max(), Ypred_2.max())\n",
    "for i, Ypred in enumerate([Ypred, Ypred_1, Ypred_2]):\n",
    "    axes[i].set_aspect('equal')\n",
    "    axes[i].set_xlim(0, max_val + 5)\n",
    "    axes[i].set_ylim(0, max_val + 5)\n",
    "    axes[i].set_xlabel(\"Ypred\")\n",
    "    axes[i].set_ylabel(\"Y\")\n",
    "    axes[i].scatter(Ypred, Y)"
   ]
  },
  {
   "cell_type": "code",
   "execution_count": 232,
   "metadata": {},
   "outputs": [
    {
     "data": {
      "text/plain": [
       "<matplotlib.axes._subplots.AxesSubplot at 0x7f8de71744a8>"
      ]
     },
     "execution_count": 232,
     "metadata": {},
     "output_type": "execute_result"
    },
    {
     "data": {
      "image/png": "[encoded data removed]",
      "text/plain": [
       "<Figure size 432x288 with 1 Axes>"
      ]
     },
     "metadata": {
      "needs_background": "light"
     },
     "output_type": "display_data"
    }
   ],
   "source": [
    "sb.distplot(Y[~Y.isna()])"
   ]
  },
  {
   "cell_type": "markdown",
   "metadata": {},
   "source": [
    "## Unsupervised Clustering"
   ]
  },
  {
   "cell_type": "code",
   "execution_count": 251,
   "metadata": {},
   "outputs": [],
   "source": [
    "kmeans = KMeans(n_clusters=2).fit(X)"
   ]
  },
  {
   "cell_type": "code",
   "execution_count": 252,
   "metadata": {},
   "outputs": [
    {
     "data": {
      "text/plain": [
       "0.8043513776521313"
      ]
     },
     "execution_count": 252,
     "metadata": {},
     "output_type": "execute_result"
    }
   ],
   "source": [
    "kmeans.labels_.mean()"
   ]
  },
  {
   "cell_type": "code",
   "execution_count": 262,
   "metadata": {},
   "outputs": [
    {
     "name": "stdout",
     "output_type": "stream",
     "text": [
      "(42860546, 42817478, {'osmid': '[5704407]', 'oneway': 'False', 'maxspeed': '20.0', 'highway': 'residential', 'name': '47th Avenue', 'length': '81.311', 'geometry': 'LINESTRING (-73.9404529 40.7436214, -73.9394987 40.7435115)', 'speed_mph_mean': '16.2134', 'speed_mph_stddev': '7.72735', 'speed_mph_p50': '16.337866666666663', 'speed_mph_p85': '23.054616666666675'})\n"
     ]
    }
   ],
   "source": [
    "for e in G.edges(data=True):\n",
    "    print(e)\n",
    "    break"
   ]
  },
  {
   "cell_type": "code",
   "execution_count": 265,
   "metadata": {},
   "outputs": [
    {
     "data": {
      "text/plain": [
       "AtlasView({0: {'osmid': '[420895467]', 'oneway': 'True', 'highway': 'secondary', 'name': 'Malcolm X Boulevard', 'length': '77.687', 'geometry': 'LINESTRING (-73.93772149999999 40.8185487, -73.9381673 40.8179369)', 'speed_mph_mean': '21.712666666666664', 'speed_mph_stddev': '7.266666666666667', 'speed_mph_p50': '23.331666666666663', 'speed_mph_p85': '28.142666666666667'}})"
      ]
     },
     "execution_count": 265,
     "metadata": {},
     "output_type": "execute_result"
    }
   ],
   "source": [
    "G[42438275][42440381]"
   ]
  },
  {
   "cell_type": "code",
   "execution_count": 270,
   "metadata": {},
   "outputs": [
    {
     "name": "stdout",
     "output_type": "stream",
     "text": [
      "<class 'str'>\n",
      "130240 {'oneway': 'True', 'length': '77.687', 'speed_mph_mean': '21.712666666666664', 'speed_mph_p50': '23.331666666666663', 'speed_mph_p85': '28.142666666666667', 'source': '42438275', 'sink': '42440381'}\n"
     ]
    },
    {
     "ename": "ValueError",
     "evalue": "key error",
     "output_type": "error",
     "traceback": [
      "\u001b[0;31m---------------------------------------------------------------------------\u001b[0m",
      "\u001b[0;31mKeyError\u001b[0m                                  Traceback (most recent call last)",
      "\u001b[0;32m<ipython-input-270-78f1ae9b80fe>\u001b[0m in \u001b[0;36m<module>\u001b[0;34m\u001b[0m\n\u001b[1;32m      4\u001b[0m         \u001b[0mprint\u001b[0m\u001b[0;34m(\u001b[0m\u001b[0mtype\u001b[0m\u001b[0;34m(\u001b[0m\u001b[0mdata\u001b[0m\u001b[0;34m[\u001b[0m\u001b[0;34m'source'\u001b[0m\u001b[0;34m]\u001b[0m\u001b[0;34m)\u001b[0m\u001b[0;34m)\u001b[0m\u001b[0;34m\u001b[0m\u001b[0;34m\u001b[0m\u001b[0m\n\u001b[0;32m----> 5\u001b[0;31m         \u001b[0mG\u001b[0m\u001b[0;34m[\u001b[0m\u001b[0mdata\u001b[0m\u001b[0;34m[\u001b[0m\u001b[0;34m'source'\u001b[0m\u001b[0;34m]\u001b[0m\u001b[0;34m]\u001b[0m\u001b[0;34m[\u001b[0m\u001b[0mdata\u001b[0m\u001b[0;34m[\u001b[0m\u001b[0;34m'sink'\u001b[0m\u001b[0;34m]\u001b[0m\u001b[0;34m]\u001b[0m\u001b[0;34m\u001b[0m\u001b[0;34m\u001b[0m\u001b[0m\n\u001b[0m\u001b[1;32m      6\u001b[0m     \u001b[0;32mexcept\u001b[0m\u001b[0;34m:\u001b[0m\u001b[0;34m\u001b[0m\u001b[0;34m\u001b[0m\u001b[0m\n",
      "\u001b[0;32m~/streets/env/lib/python3.6/site-packages/networkx/classes/graph.py\u001b[0m in \u001b[0;36m__getitem__\u001b[0;34m(self, n)\u001b[0m\n\u001b[1;32m    474\u001b[0m         \"\"\"\n\u001b[0;32m--> 475\u001b[0;31m         \u001b[0;32mreturn\u001b[0m \u001b[0mself\u001b[0m\u001b[0;34m.\u001b[0m\u001b[0madj\u001b[0m\u001b[0;34m[\u001b[0m\u001b[0mn\u001b[0m\u001b[0;34m]\u001b[0m\u001b[0;34m\u001b[0m\u001b[0;34m\u001b[0m\u001b[0m\n\u001b[0m\u001b[1;32m    476\u001b[0m \u001b[0;34m\u001b[0m\u001b[0m\n",
      "\u001b[0;32m~/streets/env/lib/python3.6/site-packages/networkx/classes/coreviews.py\u001b[0m in \u001b[0;36m__getitem__\u001b[0;34m(self, name)\u001b[0m\n\u001b[1;32m    101\u001b[0m     \u001b[0;32mdef\u001b[0m \u001b[0m__getitem__\u001b[0m\u001b[0;34m(\u001b[0m\u001b[0mself\u001b[0m\u001b[0;34m,\u001b[0m \u001b[0mname\u001b[0m\u001b[0;34m)\u001b[0m\u001b[0;34m:\u001b[0m\u001b[0;34m\u001b[0m\u001b[0;34m\u001b[0m\u001b[0m\n\u001b[0;32m--> 102\u001b[0;31m         \u001b[0;32mreturn\u001b[0m \u001b[0mAdjacencyView\u001b[0m\u001b[0;34m(\u001b[0m\u001b[0mself\u001b[0m\u001b[0;34m.\u001b[0m\u001b[0m_atlas\u001b[0m\u001b[0;34m[\u001b[0m\u001b[0mname\u001b[0m\u001b[0;34m]\u001b[0m\u001b[0;34m)\u001b[0m\u001b[0;34m\u001b[0m\u001b[0;34m\u001b[0m\u001b[0m\n\u001b[0m\u001b[1;32m    103\u001b[0m \u001b[0;34m\u001b[0m\u001b[0m\n",
      "\u001b[0;31mKeyError\u001b[0m: '42438275'",
      "\nDuring handling of the above exception, another exception occurred:\n",
      "\u001b[0;31mValueError\u001b[0m                                Traceback (most recent call last)",
      "\u001b[0;32m<ipython-input-270-78f1ae9b80fe>\u001b[0m in \u001b[0;36m<module>\u001b[0;34m\u001b[0m\n\u001b[1;32m      6\u001b[0m     \u001b[0;32mexcept\u001b[0m\u001b[0;34m:\u001b[0m\u001b[0;34m\u001b[0m\u001b[0;34m\u001b[0m\u001b[0m\n\u001b[1;32m      7\u001b[0m         \u001b[0mprint\u001b[0m\u001b[0;34m(\u001b[0m\u001b[0mk\u001b[0m\u001b[0;34m,\u001b[0m \u001b[0mdata\u001b[0m\u001b[0;34m)\u001b[0m\u001b[0;34m\u001b[0m\u001b[0;34m\u001b[0m\u001b[0m\n\u001b[0;32m----> 8\u001b[0;31m         \u001b[0;32mraise\u001b[0m \u001b[0mValueError\u001b[0m\u001b[0;34m(\u001b[0m\u001b[0;34m\"key error\"\u001b[0m\u001b[0;34m)\u001b[0m\u001b[0;34m\u001b[0m\u001b[0;34m\u001b[0m\u001b[0m\n\u001b[0m\u001b[1;32m      9\u001b[0m     \u001b[0;32mbreak\u001b[0m\u001b[0;34m\u001b[0m\u001b[0;34m\u001b[0m\u001b[0m\n",
      "\u001b[0;31mValueError\u001b[0m: key error"
     ]
    }
   ],
   "source": [
    "for k, data in LG.nodes(data=True):\n",
    "    #print(data)\n",
    "    try:\n",
    "        print(type(data['source']))\n",
    "        G[data['source']][data['sink']]\n",
    "    except:\n",
    "        print(k, data)\n",
    "        raise ValueError(\"key error\")\n",
    "    break"
   ]
  },
  {
   "cell_type": "code",
   "execution_count": 258,
   "metadata": {},
   "outputs": [
    {
     "ename": "KeyError",
     "evalue": "'42817478'",
     "output_type": "error",
     "traceback": [
      "\u001b[0;31m---------------------------------------------------------------------------\u001b[0m",
      "\u001b[0;31mKeyError\u001b[0m                                  Traceback (most recent call last)",
      "\u001b[0;32m<ipython-input-258-80150cf96950>\u001b[0m in \u001b[0;36m<module>\u001b[0;34m\u001b[0m\n\u001b[1;32m      1\u001b[0m \u001b[0;32mfor\u001b[0m \u001b[0mi\u001b[0m \u001b[0;32min\u001b[0m \u001b[0mrange\u001b[0m\u001b[0;34m(\u001b[0m\u001b[0mlen\u001b[0m\u001b[0;34m(\u001b[0m\u001b[0mLG\u001b[0m\u001b[0;34m)\u001b[0m\u001b[0;34m)\u001b[0m\u001b[0;34m:\u001b[0m\u001b[0;34m\u001b[0m\u001b[0;34m\u001b[0m\u001b[0m\n\u001b[1;32m      2\u001b[0m     \u001b[0mdata\u001b[0m \u001b[0;34m=\u001b[0m \u001b[0mLG\u001b[0m\u001b[0;34m.\u001b[0m\u001b[0mnodes\u001b[0m\u001b[0;34m[\u001b[0m\u001b[0mi\u001b[0m\u001b[0;34m]\u001b[0m\u001b[0;34m\u001b[0m\u001b[0;34m\u001b[0m\u001b[0m\n\u001b[0;32m----> 3\u001b[0;31m     \u001b[0mG\u001b[0m\u001b[0;34m[\u001b[0m\u001b[0mdata\u001b[0m\u001b[0;34m[\u001b[0m\u001b[0;34m'sink'\u001b[0m\u001b[0;34m]\u001b[0m\u001b[0;34m]\u001b[0m\u001b[0;34m[\u001b[0m\u001b[0mdata\u001b[0m\u001b[0;34m[\u001b[0m\u001b[0;34m'source'\u001b[0m\u001b[0;34m]\u001b[0m\u001b[0;34m]\u001b[0m\u001b[0;34m[\u001b[0m\u001b[0;34m'cluster'\u001b[0m\u001b[0;34m]\u001b[0m \u001b[0;34m=\u001b[0m \u001b[0mkmeans\u001b[0m\u001b[0;34m.\u001b[0m\u001b[0mlabels_\u001b[0m\u001b[0;34m[\u001b[0m\u001b[0mi\u001b[0m\u001b[0;34m]\u001b[0m\u001b[0;34m\u001b[0m\u001b[0;34m\u001b[0m\u001b[0m\n\u001b[0m",
      "\u001b[0;32m~/streets/env/lib/python3.6/site-packages/networkx/classes/graph.py\u001b[0m in \u001b[0;36m__getitem__\u001b[0;34m(self, n)\u001b[0m\n\u001b[1;32m    473\u001b[0m         \u001b[0mAtlasView\u001b[0m\u001b[0;34m(\u001b[0m\u001b[0;34m{\u001b[0m\u001b[0;36m1\u001b[0m\u001b[0;34m:\u001b[0m \u001b[0;34m{\u001b[0m\u001b[0;34m}\u001b[0m\u001b[0;34m}\u001b[0m\u001b[0;34m)\u001b[0m\u001b[0;34m\u001b[0m\u001b[0;34m\u001b[0m\u001b[0m\n\u001b[1;32m    474\u001b[0m         \"\"\"\n\u001b[0;32m--> 475\u001b[0;31m         \u001b[0;32mreturn\u001b[0m \u001b[0mself\u001b[0m\u001b[0;34m.\u001b[0m\u001b[0madj\u001b[0m\u001b[0;34m[\u001b[0m\u001b[0mn\u001b[0m\u001b[0;34m]\u001b[0m\u001b[0;34m\u001b[0m\u001b[0;34m\u001b[0m\u001b[0m\n\u001b[0m\u001b[1;32m    476\u001b[0m \u001b[0;34m\u001b[0m\u001b[0m\n\u001b[1;32m    477\u001b[0m     \u001b[0;32mdef\u001b[0m \u001b[0madd_node\u001b[0m\u001b[0;34m(\u001b[0m\u001b[0mself\u001b[0m\u001b[0;34m,\u001b[0m \u001b[0mnode_for_adding\u001b[0m\u001b[0;34m,\u001b[0m \u001b[0;34m**\u001b[0m\u001b[0mattr\u001b[0m\u001b[0;34m)\u001b[0m\u001b[0;34m:\u001b[0m\u001b[0;34m\u001b[0m\u001b[0;34m\u001b[0m\u001b[0m\n",
      "\u001b[0;32m~/streets/env/lib/python3.6/site-packages/networkx/classes/coreviews.py\u001b[0m in \u001b[0;36m__getitem__\u001b[0;34m(self, name)\u001b[0m\n\u001b[1;32m    100\u001b[0m \u001b[0;34m\u001b[0m\u001b[0m\n\u001b[1;32m    101\u001b[0m     \u001b[0;32mdef\u001b[0m \u001b[0m__getitem__\u001b[0m\u001b[0;34m(\u001b[0m\u001b[0mself\u001b[0m\u001b[0;34m,\u001b[0m \u001b[0mname\u001b[0m\u001b[0;34m)\u001b[0m\u001b[0;34m:\u001b[0m\u001b[0;34m\u001b[0m\u001b[0;34m\u001b[0m\u001b[0m\n\u001b[0;32m--> 102\u001b[0;31m         \u001b[0;32mreturn\u001b[0m \u001b[0mAdjacencyView\u001b[0m\u001b[0;34m(\u001b[0m\u001b[0mself\u001b[0m\u001b[0;34m.\u001b[0m\u001b[0m_atlas\u001b[0m\u001b[0;34m[\u001b[0m\u001b[0mname\u001b[0m\u001b[0;34m]\u001b[0m\u001b[0;34m)\u001b[0m\u001b[0;34m\u001b[0m\u001b[0;34m\u001b[0m\u001b[0m\n\u001b[0m\u001b[1;32m    103\u001b[0m \u001b[0;34m\u001b[0m\u001b[0m\n\u001b[1;32m    104\u001b[0m     \u001b[0;32mdef\u001b[0m \u001b[0mcopy\u001b[0m\u001b[0;34m(\u001b[0m\u001b[0mself\u001b[0m\u001b[0;34m)\u001b[0m\u001b[0;34m:\u001b[0m\u001b[0;34m\u001b[0m\u001b[0;34m\u001b[0m\u001b[0m\n",
      "\u001b[0;31mKeyError\u001b[0m: '42817478'"
     ]
    }
   ],
   "source": [
    "for i in range(len(LG)):\n",
    "    data = LG.nodes[i]\n",
    "    G[data['source']][data['sink']]['cluster'] = kmeans.labels_[i]"
   ]
  },
  {
   "cell_type": "code",
   "execution_count": null,
   "metadata": {},
   "outputs": [],
   "source": [
    "ec = ['black' if 'speed_mph_mean' in d.keys() else 'yellow' for (u,v,d) in G.edges(data=True)]\n",
    "#ez = [3 if 'speed_mph_mean' in d.keys() else 4 for (u,v,d) in G.edges(data=True)]\n",
    "\n",
    "fig, ax = ox.plot_graph(G, edge_color=ec, fig_height=8,\n",
    "                     annotate=False, use_geom=True, edge_linewidth=3,\n",
    "                     edge_alpha=0.5)"
   ]
  }
 ],
 "metadata": {
  "kernelspec": {
   "display_name": "Python 3",
   "language": "python",
   "name": "python3"
  },
  "language_info": {
   "codemirror_mode": {
    "name": "ipython",
    "version": 3
   },
   "file_extension": ".py",
   "mimetype": "text/x-python",
   "name": "python",
   "nbconvert_exporter": "python",
   "pygments_lexer": "ipython3",
   "version": "3.6.9"
  }
 },
 "nbformat": 4,
 "nbformat_minor": 2
}
